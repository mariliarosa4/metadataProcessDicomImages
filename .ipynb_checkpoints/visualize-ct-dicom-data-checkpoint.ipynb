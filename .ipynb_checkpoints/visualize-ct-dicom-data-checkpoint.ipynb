{
 "cells": [
  {
   "cell_type": "markdown",
   "metadata": {
    "_uuid": "b9f8df29abcd23aa9dad24ab83b0c5d945510ac1"
   },
   "source": [
    "<h1><center><font size=\"6\">Visualize CT DICOM Data</font></center></h1>\n",
    "\n",
    "<img src=\"https://kaggle2.blob.core.windows.net/datasets-images/1012/1826/dcf783d7dd5f628dccb49111ade64649/dataset-card.jpg\" width=400></img>  \n",
    "\n",
    "# <a id='0'>Content</a>\n",
    "\n",
    "- <a href='#1'>Introduction</a>  \n",
    "- <a href='#2'>Load packages</a>  \n",
    "- <a href='#3'>Read the data</a> \n",
    "    - <a href='#31'>Read overview data</a> \n",
    "    - <a href='#32'>Read TIFF data</a> \n",
    "    - <a href='#33'>Read DICOM data</a>  \n",
    "- <a href='#4'>Data exploration</a>\n",
    "    - <a href='#41'>Check data consistency</a> \n",
    "    - <a href='#42'>Show TIFF images</a> \n",
    "    - <a href='#43'>Show DICOM data</a> \n",
    "- <a href='#7'>Conclusions</a>\n",
    "- <a href='#8'>References</a>"
   ]
  },
  {
   "cell_type": "markdown",
   "metadata": {
    "_uuid": "81bd6f76112c3c1367e83675e32c9edb7643b592"
   },
   "source": [
    "# <a id=\"1\">Introduction<a/>\n",
    "\n",
    "## Overview  \n",
    "\n",
    "The dataset is designed to allow for different methods to be tested for examining the trends in CT image data associated with using contrast and patient age. The basic idea is to identify image textures, statistical patterns and features correlating strongly with these traits and possibly build simple tools for automatically classifying these images when they have been misclassified (or finding outliers which could be suspicious cases, bad measurements, or poorly calibrated machines)\n",
    "\n",
    "## Data\n",
    "The data are a tiny subset of images from the cancer imaging archive. They consist of the middle slice of all CT images taken where valid age, modality, and contrast tags could be found.   TCIA Archive Link - https://wiki.cancerimagingarchive.net/display/Public/TCGA-LUAD"
   ]
  },
  {
   "cell_type": "markdown",
   "metadata": {
    "_uuid": "a7c6bc4073084998e31a0883afab0df9bad9c002"
   },
   "source": [
    "# <a id=\"2\">Load packages</a>\n",
    "\n",
    "We will load the packages for showing tiff images and dicom data.   \n",
    "For dicom data, we are loading the **dicom**package.   \n"
   ]
  },
  {
   "cell_type": "code",
   "execution_count": null,
   "metadata": {
    "_cell_guid": "b1076dfc-b9ad-4769-8c92-a6c4dae69d19",
    "_uuid": "8f2839f25d086af736a60e9eeb907d3b93b6e0e5"
   },
   "outputs": [],
   "source": [
    "IS_LOCAL = False\n",
    "import numpy as np\n",
    "import pandas as pd\n",
    "from skimage.io import imread\n",
    "import seaborn as sns\n",
    "import matplotlib.pyplot as plt\n",
    "from glob import glob\n",
    "if(IS_LOCAL):\n",
    "    import pydicom as dicom\n",
    "else:\n",
    "    import dicom\n",
    "import os\n",
    "\n",
    "\n",
    "if(IS_LOCAL):\n",
    "    PATH=\"../input/siim-medical-image/\"\n",
    "else:\n",
    "    PATH=\"../input/\"\n",
    "print(os.listdir(PATH))"
   ]
  },
  {
   "cell_type": "markdown",
   "metadata": {
    "_uuid": "fad2807533840c0d8e4c7aa93769ef61a7e26a20"
   },
   "source": [
    "# <a id=\"3\">Read the data</a>\n",
    "\n",
    "\n",
    "## <a id=\"31\">Read overview data</a>"
   ]
  },
  {
   "cell_type": "code",
   "execution_count": null,
   "metadata": {
    "_uuid": "99cc4adae372b63b0064a83de84d994489fce161"
   },
   "outputs": [],
   "source": [
    "data_df = pd.read_csv(PATH+\"/overview.csv\")"
   ]
  },
  {
   "cell_type": "code",
   "execution_count": null,
   "metadata": {
    "_uuid": "92a4b5b411f3d744878b0ab810f8eaa22eedef57"
   },
   "outputs": [],
   "source": [
    "print(\"CT Medical images -  rows:\",data_df.shape[0],\" columns:\", data_df.shape[1])"
   ]
  },
  {
   "cell_type": "code",
   "execution_count": null,
   "metadata": {
    "_uuid": "dea7f67191f42c0d510544ad80e98ff4607019e7"
   },
   "outputs": [],
   "source": [
    "data_df.head()"
   ]
  },
  {
   "cell_type": "markdown",
   "metadata": {
    "_uuid": "b54b42b1427e881ddca331c0847ed0aa9531401e"
   },
   "source": [
    "## <a id=\"32\">Read TIFF data</a>"
   ]
  },
  {
   "cell_type": "code",
   "execution_count": null,
   "metadata": {
    "_cell_guid": "79c7e3d0-c299-4dcb-8224-4455121ee9b0",
    "_uuid": "d629ff2d2480ee46fbb7e2d37f6b5fab8052498a"
   },
   "outputs": [],
   "source": [
    "print(\"Number of TIFF images:\", len(os.listdir(PATH+\"tiff_images\")))"
   ]
  },
  {
   "cell_type": "code",
   "execution_count": null,
   "metadata": {
    "_uuid": "a397725cf867215d9172b3fe1aebe0b66659975b"
   },
   "outputs": [],
   "source": [
    "tiff_data = pd.DataFrame([{'path': filepath} for filepath in glob(PATH+'tiff_images/*.tif')])"
   ]
  },
  {
   "cell_type": "markdown",
   "metadata": {
    "_uuid": "8ec5d46d1b1c984889e6c926899b4dce4173ef52"
   },
   "source": [
    "### Process TIFF data"
   ]
  },
  {
   "cell_type": "code",
   "execution_count": null,
   "metadata": {
    "_uuid": "4c9ddfb0e0a0cda609b6087a934ea3f9d5220a0b"
   },
   "outputs": [],
   "source": [
    "def process_data(path):\n",
    "    data = pd.DataFrame([{'path': filepath} for filepath in glob(PATH+path)])\n",
    "    data['file'] = data['path'].map(os.path.basename)\n",
    "    data['ID'] = data['file'].map(lambda x: str(x.split('_')[1]))\n",
    "    data['Age'] = data['file'].map(lambda x: int(x.split('_')[3]))\n",
    "    data['Contrast'] = data['file'].map(lambda x: bool(int(x.split('_')[5])))\n",
    "    data['Modality'] = data['file'].map(lambda x: str(x.split('_')[6].split('.')[-2]))\n",
    "    return data"
   ]
  },
  {
   "cell_type": "code",
   "execution_count": null,
   "metadata": {
    "_uuid": "655b6c6d44703ec2ae83b899271bde10bccea14b"
   },
   "outputs": [],
   "source": [
    "tiff_data = process_data('tiff_images/*.tif')"
   ]
  },
  {
   "cell_type": "markdown",
   "metadata": {
    "_uuid": "fd3ebdb1822ae76cc6901d887ce55d3d001f9b4b"
   },
   "source": [
    "### Check TIFF data\n",
    "\n",
    "Let's check the TIFF data"
   ]
  },
  {
   "cell_type": "code",
   "execution_count": null,
   "metadata": {
    "_uuid": "18a906fd2440fd8b11f7f828da4be9e23c59dc49"
   },
   "outputs": [],
   "source": [
    "tiff_data.head(10)"
   ]
  },
  {
   "cell_type": "markdown",
   "metadata": {
    "_uuid": "74931f4ba46dc70eb29862b1fc206c2f657306bf"
   },
   "source": [
    "## <a id=\"33\">Read DICOM data</a>"
   ]
  },
  {
   "cell_type": "code",
   "execution_count": null,
   "metadata": {
    "_uuid": "17b97db593f7c39de49115fea4fe1a1aa13e7e6e"
   },
   "outputs": [],
   "source": [
    "print(\"Number of DICOM files:\", len(os.listdir(PATH+\"dicom_dir\")))"
   ]
  },
  {
   "cell_type": "markdown",
   "metadata": {
    "_uuid": "c302c90e2056602d5e716c77adaba01bb935c62e"
   },
   "source": [
    "### Process DICOM data"
   ]
  },
  {
   "cell_type": "code",
   "execution_count": null,
   "metadata": {
    "_uuid": "fbed1950b89597e71c87e04acee19f08d33e221d"
   },
   "outputs": [],
   "source": [
    "dicom_data = process_data('dicom_dir/*.dcm')"
   ]
  },
  {
   "cell_type": "markdown",
   "metadata": {
    "_uuid": "f3e06cea13faeb2f6ef6e658dad16cfc19eff36d"
   },
   "source": [
    "### Check DICOM data"
   ]
  },
  {
   "cell_type": "code",
   "execution_count": null,
   "metadata": {
    "_uuid": "c104d588cc4f168069fefb93f338e4e2ea026e00"
   },
   "outputs": [],
   "source": [
    "dicom_data.head(10)"
   ]
  },
  {
   "cell_type": "markdown",
   "metadata": {
    "_uuid": "eff59c4fbf9e6434c7f8479af8765ddc602d832c"
   },
   "source": [
    "# <a id=\"4\">Data exploration</a>"
   ]
  },
  {
   "cell_type": "markdown",
   "metadata": {
    "_uuid": "df6c63ebefbf737dbd53ae7b75973e5a4dc45c4d"
   },
   "source": [
    "## <a id=\"41\">Check data consistency</a>\n",
    "\n",
    "Let's verify if the content in overview.csv is consistent with the data in tiff_images folder."
   ]
  },
  {
   "cell_type": "code",
   "execution_count": null,
   "metadata": {
    "_uuid": "dce0621635cf75a3e01c06dbc7d0fc133768b9e5"
   },
   "outputs": [],
   "source": [
    "def countplot_comparison(feature):\n",
    "    fig, (ax1, ax2, ax3) = plt.subplots(1,3, figsize = (16, 4))\n",
    "    s1 = sns.countplot(data_df[feature], ax=ax1)\n",
    "    s1.set_title(\"Overview data\")\n",
    "    s2 = sns.countplot(tiff_data[feature], ax=ax2)\n",
    "    s2.set_title(\"Tiff files data\")\n",
    "    s3 = sns.countplot(dicom_data[feature], ax=ax3)\n",
    "    s3.set_title(\"Dicom files data\")\n",
    "    plt.show()"
   ]
  },
  {
   "cell_type": "code",
   "execution_count": null,
   "metadata": {
    "_uuid": "7f7f7af0073ddadc81482a5982f271978f062a84"
   },
   "outputs": [],
   "source": [
    "countplot_comparison('Contrast')"
   ]
  },
  {
   "cell_type": "code",
   "execution_count": null,
   "metadata": {
    "_uuid": "7be28c8e3d770cfd530331646bd3b2504e448060"
   },
   "outputs": [],
   "source": [
    "countplot_comparison('Age')"
   ]
  },
  {
   "cell_type": "markdown",
   "metadata": {
    "_uuid": "95da140198f7f7d68e63282dcb323405bfdceae0"
   },
   "source": [
    "The values in the 3 data sources are consistent."
   ]
  },
  {
   "cell_type": "markdown",
   "metadata": {
    "_uuid": "d0f1669448a61b36bd31f514918011678359a313"
   },
   "source": [
    "## <a id=\"42\">Show TIFF images</a>\n",
    "\n",
    "We will show a subsample of 16 images from the total of 100 images.     \n",
    "We will select the first 16 images from the data set.   \n",
    "We will use grayscale.   \n",
    "We define here a generic function to represent both TIFF images and DICOM images."
   ]
  },
  {
   "cell_type": "code",
   "execution_count": null,
   "metadata": {
    "_uuid": "008814c48075cfd0f63a21f2c7f53992dfa61184"
   },
   "outputs": [],
   "source": [
    "def show_images(data, dim=16, imtype='TIFF'):\n",
    "    img_data = list(data[:dim].T.to_dict().values())\n",
    "    f, ax = plt.subplots(4,4, figsize=(16,20))\n",
    "    for i,data_row in enumerate(img_data):\n",
    "        if(imtype=='TIFF'): \n",
    "            data_row_img = imread(data_row['path'])\n",
    "        elif(imtype=='DICOM'):\n",
    "            data_row_img = dicom.read_file(data_row['path'])\n",
    "        if(imtype=='TIFF'):\n",
    "            ax[i//4, i%4].matshow(data_row_img,cmap='gray')\n",
    "        elif(imtype=='DICOM'):\n",
    "            ax[i//4, i%4].imshow(data_row_img.pixel_array, cmap=plt.cm.bone) \n",
    "        ax[i//4, i%4].axis('off')\n",
    "        ax[i//4, i%4].set_title('Modality: {Modality} Age: {Age}\\nSlice: {ID} Contrast: {Contrast}'.format(**data_row))\n",
    "    plt.show()\n"
   ]
  },
  {
   "cell_type": "markdown",
   "metadata": {
    "_uuid": "7161716fcb5a0c8fa63170f66b1b20e40ae34c82"
   },
   "source": [
    "We apply the function to show TIFF images."
   ]
  },
  {
   "cell_type": "code",
   "execution_count": null,
   "metadata": {
    "_uuid": "471c1ae53afe689f4a3901e5a86a6692a2fde927"
   },
   "outputs": [],
   "source": [
    "show_images(tiff_data,16,'TIFF')"
   ]
  },
  {
   "cell_type": "markdown",
   "metadata": {
    "_uuid": "b6187cb30c4d1a049eb7683f69bcac6aa73daa14"
   },
   "source": [
    "## <a id=\"43\">Show DICOM data</a>\n",
    "\n",
    "We will show a subsample of 16 images from the total of 100 images.   \n",
    "We will use grayscale.   \n",
    "Ideally, if the DICOM images would be a set of slices from a single examen, they could be aggregated using a function like the one shown here: extract_voxel_data - which read the DICOM slices (each in a separate file) and aggregate the image data in a 3D voxel tensor. This will not be the case here, because we are storing slices from different patients and exams (one slice / exam / patient)."
   ]
  },
  {
   "cell_type": "markdown",
   "metadata": {
    "_uuid": "231c224e3c4f6f776bd0448977453c3d177b90e9"
   },
   "source": [
    "    # extract voxel data  \n",
    "    def extract_voxel_data(list_of_dicom_files):  \n",
    "        datasets = [dicom.read_file(f) for f in list_of_dicom_files]  \n",
    "         try:  \n",
    "             voxel_ndarray, ijk_to_xyz = dicom_numpy.combine_slices(datasets)  \n",
    "         except dicom_numpy.DicomImportException as e:  \n",
    "         # invalid DICOM data  \n",
    "             raise  \n",
    "         return voxel_ndarray  "
   ]
  },
  {
   "cell_type": "code",
   "execution_count": null,
   "metadata": {
    "_uuid": "d54d5f543553815cf7547f93ff9b72bbad62e0fb"
   },
   "outputs": [],
   "source": [
    "show_images(dicom_data,16,'DICOM')"
   ]
  },
  {
   "cell_type": "markdown",
   "metadata": {
    "_uuid": "b566b5155bc13acb80cf9bb5a98cca3812e30350"
   },
   "source": [
    "### More about DICOM data\n",
    "\n",
    "A DICOM file containg much more information than the image itself that we represented. Let's glimpse, for one of the DICOM files, this information. We will read the first dicom file only and show this information."
   ]
  },
  {
   "cell_type": "code",
   "execution_count": null,
   "metadata": {
    "_uuid": "2f81a632edc6041b7848de4fc3e121c868ae50a9"
   },
   "outputs": [],
   "source": [
    "dicom_file_path = list(dicom_data[:1].T.to_dict().values())[0]['path']\n",
    "dicom_file_dataset = dicom.read_file(dicom_file_path)\n",
    "dicom_file_dataset"
   ]
  },
  {
   "cell_type": "markdown",
   "metadata": {
    "_uuid": "c1f0f8e97375826971e90e9992dd10537076007b"
   },
   "source": [
    "We can extract various fields from the DICOM FileDataset. Here are few examples:  \n",
    "* Modality  \n",
    "* Manufacturer\n",
    "* Patient Age  \n",
    "* Patient Sex\n",
    "* Patient Name  \n",
    "* Patient ID\n",
    "\n"
   ]
  },
  {
   "cell_type": "code",
   "execution_count": null,
   "metadata": {
    "_uuid": "982aebedb0a999a7145c82133bd28b40f45ead6f",
    "collapsed": true
   },
   "outputs": [],
   "source": [
    "print(\"Modality: {}\\nManufacturer: {}\\nPatient Age: {}\\nPatient Sex: {}\\nPatient Name: {}\\nPatient ID: {}\".format(\n",
    "    dicom_file_dataset.Modality, \n",
    "    dicom_file_dataset.Manufacturer,\n",
    "    dicom_file_dataset.PatientAge,\n",
    "    dicom_file_dataset.PatientSex,\n",
    "    dicom_file_dataset.PatientName,\n",
    "    dicom_file_dataset.PatientID))"
   ]
  },
  {
   "cell_type": "markdown",
   "metadata": {
    "_uuid": "1b4ae840c59ee37b70327c6fcb3936e695c6da51"
   },
   "source": [
    "Some of the information are anonymized (like Name and ID), which is common standard for public medical data.   \n",
    "\n",
    "We will modify the visualization function, to show parameters from the DICOM data instead of the parameters extracted from the image name.  \n",
    "\n"
   ]
  },
  {
   "cell_type": "code",
   "execution_count": null,
   "metadata": {
    "_uuid": "019e702909b3d07aa94e1bcd400fd518383398fa"
   },
   "outputs": [],
   "source": [
    "def show_dicom_images(data):\n",
    "    img_data = list(data[:16].T.to_dict().values())\n",
    "    f, ax = plt.subplots(4,4, figsize=(16,20))\n",
    "    for i,data_row in enumerate(img_data):\n",
    "\n",
    "        data_row_img = dicom.read_file(data_row['path'])\n",
    "        modality = data_row_img.Modality\n",
    "        age = data_row_img.PatientAge\n",
    "        \n",
    "        ax[i//4, i%4].imshow(data_row_img.pixel_array, cmap=plt.cm.bone) \n",
    "        ax[i//4, i%4].axis('off')\n",
    "        ax[i//4, i%4].set_title('Modality: {} Age: {}\\nSlice: {} Contrast: {}'.format(\n",
    "         modality, age, data_row['ID'], data_row['Contrast']))\n",
    "    plt.show()\n"
   ]
  },
  {
   "cell_type": "code",
   "execution_count": null,
   "metadata": {
    "_uuid": "49039555157f3e359e9486b28edb4f22c52c4a3b"
   },
   "outputs": [],
   "source": [
    "show_dicom_images(dicom_data)"
   ]
  },
  {
   "cell_type": "markdown",
   "metadata": {
    "_uuid": "2aa86f986af4707b3bbbceae7d4965c55eb2180b"
   },
   "source": [
    "# Conclusion\n",
    "\n",
    "We demonstrated how we can load and show **TIFF** images.  \n",
    "As well, using **dicom** and **dicom-numpy** packages, we demonstrated how to read and visualize **DICOM** data.  \n",
    "We also explored preliminary the content of a DICOM data file and modified the visualization function to use (partially) DICOM data for the image attributes.\n"
   ]
  },
  {
   "cell_type": "markdown",
   "metadata": {
    "_uuid": "eaabc61e090354de36dc99f32deee4cc28d460c4"
   },
   "source": [
    "# References\n",
    "\n",
    "[1] <a href=\"https://www.kaggle.com/kmader\">Kevin Mader</a>,  <a href=\"https://www.kaggle.com/kmader/show-the-data-in-the-zip-file\">Show the data in the Zip File</a>    \n",
    "[2] <a href=\"https://www.kaggle.com/byrachonok\">Vitaly Byrachonok</a>,  <a href=\"https://www.kaggle.com/byrachonok/study-ct-medical-images\">Study CT Medical Images</a>    \n",
    "[3] Python package for processing DICOM data, dicom-numpy, https://dicom-numpy.readthedocs.io     \n",
    "[4] Viewing DICOM images in Python, https://pydicom.github.io/pydicom/stable/viewing_images.html   \n",
    "\n",
    "\n"
   ]
  }
 ],
 "metadata": {
  "kernelspec": {
   "display_name": "Python 3",
   "language": "python",
   "name": "python3"
  },
  "language_info": {
   "codemirror_mode": {
    "name": "ipython",
    "version": 3
   },
   "file_extension": ".py",
   "mimetype": "text/x-python",
   "name": "python",
   "nbconvert_exporter": "python",
   "pygments_lexer": "ipython3",
   "version": "3.6.5"
  }
 },
 "nbformat": 4,
 "nbformat_minor": 1
}
